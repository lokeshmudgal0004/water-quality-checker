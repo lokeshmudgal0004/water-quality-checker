{
 "cells": [
  {
   "cell_type": "code",
   "execution_count": null,
   "id": "54dabf88-1ba2-4080-aa1f-596259e60da4",
   "metadata": {},
   "outputs": [],
   "source": []
  }
 ],
 "metadata": {
  "kernelspec": {
   "display_name": "",
   "name": ""
  },
  "language_info": {
   "name": ""
  }
 },
 "nbformat": 4,
 "nbformat_minor": 5
}
